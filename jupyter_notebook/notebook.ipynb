{
 "cells": [
  {
   "cell_type": "code",
   "execution_count": null,
   "metadata": {},
   "outputs": [],
   "source": []
  },
  {
   "attachments": {},
   "cell_type": "markdown",
   "metadata": {},
   "source": [
    "# Classify Images of Cancer\n"
   ]
  },
  {
   "attachments": {},
   "cell_type": "markdown",
   "metadata": {},
   "source": [
    "\"\"\n",
    "\n",
    "├── Image_classification_data\n",
    "│ ├── patch_images\n",
    "│ └── data_labels_extraData.csv\n",
    "│ ├── data_labels_mainData.csv\n",
    "│ └── data_source.pdf\n",
    "|\n",
    "├── LICENSE\n",
    "├── README.md\n",
    "├── independent_evaluation\n",
    "│ └── srep45938.pdf\n",
    "├── jupyter_notebook\n",
    "│ └── notebook.ipynb\n",
    "├── python_scripts\n",
    "├── report\n",
    "└── requirement_rubic\n",
    "├── COSC2673_2793_Assignment2.pdf\n",
    "└── rubric-assignment2.pdf\n",
    "\"\"\n"
   ]
  }
 ],
 "metadata": {
  "kernelspec": {
   "display_name": "Advanced_Programming_for_Data_Science",
   "language": "python",
   "name": "python3"
  },
  "language_info": {
   "name": "python",
   "version": "3.10.4"
  },
  "orig_nbformat": 4
 },
 "nbformat": 4,
 "nbformat_minor": 2
}
